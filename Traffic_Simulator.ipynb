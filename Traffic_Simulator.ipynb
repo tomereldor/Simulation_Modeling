{
 "cells": [
  {
   "cell_type": "code",
   "execution_count": null,
   "metadata": {
    "collapsed": true
   },
   "outputs": [],
   "source": [
    "import scipy\n",
    "import pylab\n",
    "import numpy as np\n",
    "import pandas as pd\n",
    "%matplotlib inline"
   ]
  },
  {
   "cell_type": "raw",
   "metadata": {},
   "source": []
  },
  {
   "cell_type": "raw",
   "metadata": {},
   "source": []
  },
  {
   "cell_type": "raw",
   "metadata": {},
   "source": []
  },
  {
   "cell_type": "raw",
   "metadata": {},
   "source": []
  },
  {
   "cell_type": "raw",
   "metadata": {},
   "source": []
  },
  {
   "cell_type": "raw",
   "metadata": {},
   "source": []
  },
  {
   "cell_type": "code",
   "execution_count": null,
   "metadata": {
    "collapsed": true
   },
   "outputs": [],
   "source": [
    "class TrafficSimulator(object):\n",
    "\n",
    "    # Mapping from the current state of a cell's neighborhood to the next state\n",
    "    # of the cell. This corresponds to Wolfram's Rule 184.\n",
    "    ca_map = {\n",
    "        (0, 0, 0): 0,\n",
    "        (0, 0, 1): 0,\n",
    "        (0, 1, 0): 0,\n",
    "        (0, 1, 1): 1,\n",
    "        (1, 0, 0): 1,\n",
    "        (1, 0, 1): 1,\n",
    "        (1, 1, 0): 0,\n",
    "        (1, 1, 1): 1}\n",
    "\n",
    "    def __init__(self, length=10, density=0.3, max_v = 5, p_slowdown = 0.1, interactive=False):\n",
    "            '''\n",
    "            Initialize new TrafficSimulator objects with the default parameter\n",
    "            settings.\n",
    "\n",
    "            Inputs:\n",
    "\n",
    "             * length (int) The number of cells in the cellular automaton.\n",
    "               Default: 50.\n",
    "\n",
    "             * density (float) The proportion of cells that will be active (contain\n",
    "               a car) when the cellular automaton is initialized. The active cells\n",
    "               will be at random locations along the length of the CA. Default: 0.2.\n",
    "\n",
    "             * interactive (bool) Whether or not we are running an interactive\n",
    "               simulation. In CoCalc we have to run in non-interactive mode (False),\n",
    "               but in your local Python environment you should be able to run in\n",
    "               interactive mode (True). Default: False.\n",
    "\n",
    "            '''\n",
    "        self.interactive = interactive\n",
    "        self.length = length\n",
    "        self.density = density\n",
    "        self.max_v = max_v\n",
    "        self.p_slowdown = p_slowdown\n",
    "\n",
    "        # Arrays for storing the current state and the next state (when we are\n",
    "        # busy doing a state update).\n",
    "        self.current_state = scipy.zeros(self.length)\n",
    "        self.next_state = scipy.zeros(self.length)\n",
    "\n",
    "        # initialize self\n",
    "        self.initialize()\n",
    "    \n",
    "    def initialize(self):\n",
    "        '''\n",
    "        This will be called by the interactive pycxsimulator whenever the Reset\n",
    "        button is clicked.\n",
    "        '''\n",
    "        # Set up a random initial state where the fraction of 1s in the array\n",
    "        # equals the density parameter.\n",
    "        random_indices = scipy.random.choice(\n",
    "            range(self.length),\n",
    "            size=int(round(self.density * self.length)),\n",
    "            replace=False)\n",
    "        self.current_state.fill(-1) #empty states\n",
    "        self.current_state[random_indices] = random.randint(1,5)\n",
    "\n",
    "        self.time = 0\n",
    "\n",
    "    def draw(self):\n",
    "        '''\n",
    "        Draw the current state of the cellular automaton.\n",
    "        '''\n",
    "        ;\n",
    "        if self.interactive:\n",
    "            pylab.cla()  # Clear the current figure\n",
    "        else:\n",
    "            pylab.figure()  # Create a new figure\n",
    "        pylab.pcolor(\n",
    "            self.current_state.reshape((1, self.length)),\n",
    "            vmin = 0,\n",
    "            vmax = 1,\n",
    "            cmap = pylab.cm.binary)\n",
    "        pylab.axis('image')\n",
    "        pylab.title('density = ' + str(self.density) + '; t = ' + str(self.time))\n",
    "        if not self.interactive:\n",
    "            pylab.show()\n",
    "\n",
    "    def simple_vis(self):\n",
    "        print(''.join('.' if x == 1 else str(x) for x in self.state))\n",
    "    \n",
    "\n",
    "            \n",
    "    def update(self):\n",
    "        \"\"\"One timestep\n",
    "        Update velocities based on 3 rules:\n",
    "        - Accelerate +1 if distance to next car > speed\n",
    "        - Slow down to d-1 if distance to next car < speed\n",
    "        - Randomly decrease by 1 if speed > 0\n",
    "        Afterwards move each car forward\n",
    "        \"\"\"\n",
    "        for i, v in enumerate(self.state):\n",
    "            # update if there is a car (velocity)\n",
    "            if v >= 0:\n",
    "                dist = 1\n",
    "                max_dist = min(v+1, self.max_v) # distance is velocity +1 until the cap of max_v\n",
    "                while self.state[(i + d) % self.length] == -1 and d < max_d + 1:\n",
    "                    d += 1\n",
    "                if d > v + 1:\n",
    "                    self.state[i] = min(self.state[i] + 1, self.max_v)\n",
    "                else:\n",
    "                    self.state[i] = d - 1\n",
    "                if self.state[i] > 0 and rd.random() < self.p_slow:\n",
    "                    self.state[i] -= 1\n",
    "\n",
    "        new_state = sc.ones([self.length], int) * -1\n",
    "        flow = 0\n",
    "        for i, v in r_enumerate(self.state):\n",
    "            if i + v > self.length:\n",
    "                flow += 1\n",
    "            if v >= 0:\n",
    "                new_state[(i + v) % self.length] = v\n",
    "        self.state = new_state\n",
    "        \n",
    "        return flow     \n",
    "        \n",
    "    \n",
    "    \n",
    "    def step(self):\n",
    "        '''\n",
    "        Update the state of the cellular automaton.\n",
    "        '''\n",
    "        # Update all cells, except the boundaries.\n",
    "        for i in xrange(1, self.length - 1):\n",
    "            neighborhood = self.current_state[i-1:i+2]\n",
    "            self.next_state[i] = self.ca_map[tuple(neighborhood)]\n",
    "        \n",
    "        # Update the boundaries using periodic boundary conditions.\n",
    "        neighborhood = self.current_state[[-1, 0, 1]]\n",
    "        self.next_state[0] = self.ca_map[tuple(neighborhood)]\n",
    "        neighborhood = self.current_state[[-2, -1, 0]]\n",
    "        self.next_state[-1] = self.ca_map[tuple(neighborhood)]\n",
    "        # Swap next state and current state\n",
    "        self.current_state, self.next_state = self.next_state, self.current_state\n",
    "        self.time += 1\n",
    "\n",
    "    def set_density(self, value=None):\n",
    "        '''\n",
    "        The density of cars on the road. Only affects initialization (reset) of\n",
    "        the simulation. The density must be a value between 0 and 1.\n",
    "        '''\n",
    "        if value is not None:\n",
    "            self.density = min(1, max(0, float(value)))\n",
    "        return self.density"
   ]
  },
  {
   "cell_type": "code",
   "execution_count": 18,
   "metadata": {
    "collapsed": false
   },
   "outputs": [
    {
     "ename": "AttributeError",
     "evalue": "'TrafficSimulator' object has no attribute 'update_rules'",
     "output_type": "error",
     "traceback": [
      "\u001b[0;31m---------------------------------------------------------------------------\u001b[0m",
      "\u001b[0;31mAttributeError\u001b[0m                            Traceback (most recent call last)",
      "\u001b[0;32m<ipython-input-18-1d21f09d73a9>\u001b[0m in \u001b[0;36m<module>\u001b[0;34m()\u001b[0m\n\u001b[0;32m----> 1\u001b[0;31m \u001b[0mtraffic\u001b[0m\u001b[0;34m.\u001b[0m\u001b[0mupdate_rules\u001b[0m\u001b[0;34m(\u001b[0m\u001b[0;34m)\u001b[0m\u001b[0;34m\u001b[0m\u001b[0m\n\u001b[0m",
      "\u001b[0;31mAttributeError\u001b[0m: 'TrafficSimulator' object has no attribute 'update_rules'"
     ]
    }
   ],
   "source": [
    "traffic.update_rules()"
   ]
  },
  {
   "cell_type": "code",
   "execution_count": 12,
   "metadata": {
    "collapsed": false
   },
   "outputs": [
    {
     "data": {
      "image/png": "[encoded data removed]",
      "text/plain": [
       "<matplotlib.figure.Figure at 0x11123ff10>"
      ]
     },
     "metadata": {},
     "output_type": "display_data"
    },
    {
     "data": {
      "image/png": "[encoded data removed]",
      "text/plain": [
       "<matplotlib.figure.Figure at 0x111260450>"
      ]
     },
     "metadata": {},
     "output_type": "display_data"
    }
   ],
   "source": [
    "traffic = TrafficSimulator()\n",
    "traffic.initialize()\n",
    "traffic.draw()\n",
    "traffic.step()\n",
    "traffic.draw()\n",
    "traffic.step()\n",
    "traffic.draw()"
   ]
  },
  {
   "cell_type": "code",
   "execution_count": 3,
   "metadata": {
    "collapsed": false
   },
   "outputs": [
    {
     "name": "stdout",
     "output_type": "stream",
     "text": [
      "hello\n"
     ]
    }
   ],
   "source": []
  },
  {
   "cell_type": "code",
   "execution_count": 20,
   "metadata": {
    "collapsed": true
   },
   "outputs": [],
   "source": [
    "import random\n",
    "from copy import deepcopy\n",
    "\n",
    "class TrafficSimulation():\n",
    "    def __init__(self, road_length, traffic_density, v_max, p, start_state = [], verbose = True):\n",
    "        self.road_length = road_length\n",
    "        self.traffic_density = traffic_density\n",
    "        self.v_max = v_max\n",
    "        self.p = p\n",
    "        self.verbose = verbose\n",
    "        self.throughput = 0\n",
    "        if not start_state:\n",
    "            self.state = []\n",
    "            for i in range(road_length):\n",
    "                if random.random() < traffic_density:\n",
    "                    rand_init_speed = random.choice(range(v_max))\n",
    "                    self.state.append(rand_init_speed)\n",
    "                else:\n",
    "                    self.state.append(-1)\n",
    "        else:\n",
    "            self.state = start_state\n",
    "\n",
    "\n",
    "    def step(self):\n",
    "        length = self.road_length\n",
    "        speeds = deepcopy(self.state)\n",
    "\n",
    "        for index, speed in enumerate(self.state):\n",
    "            if speed < 0:\n",
    "                continue\n",
    "\n",
    "            # count spaces in front\n",
    "            j = 1\n",
    "            while self.state[(index + j)%length] < 0:\n",
    "                j += 1\n",
    "\n",
    "            # accelerate\n",
    "            if speed < self.v_max and j > speed + 1:\n",
    "                speeds[index] += 1\n",
    "\n",
    "            # slow down due to cars\n",
    "            if j <= speed:\n",
    "                speeds[index] = j - 1\n",
    "\n",
    "            # random slow down\n",
    "            if speeds[index] > 0 and random.random() < self.p:\n",
    "                speeds[index] -= 1\n",
    "\n",
    "        if self.verbose:\n",
    "            self.display(speeds)\n",
    "\n",
    "        # update the positions\n",
    "        updated_state = [-1]*length\n",
    "        for index, speed in enumerate(speeds):\n",
    "            if speed < 0:\n",
    "                continue\n",
    "            updated_state[(index + speed)%length] = speed\n",
    "            self.throughput += float(speed)\n",
    "\n",
    "        # iterate the state, and please stop the hate\n",
    "        self.state = updated_state\n",
    "\n",
    "    def get_flow(self):\n",
    "        # distance covered by cars divided by number of cars\n",
    "        flow = self.throughput / self.road_length\n",
    "        return flow\n",
    "\n",
    "    def display(state):\n",
    "        print(''.join('.' if x == -1 else str(x) for x in state))"
   ]
  },
  {
   "cell_type": "code",
   "execution_count": 22,
   "metadata": {
    "collapsed": false
   },
   "outputs": [
    {
     "ename": "Exception",
     "evalue": "",
     "output_type": "error",
     "traceback": [
      "\u001b[0;31m---------------------------------------------------------------------------\u001b[0m",
      "\u001b[0;31mException\u001b[0m                                 Traceback (most recent call last)",
      "\u001b[0;32m<ipython-input-22-6a94ec132cf5>\u001b[0m in \u001b[0;36m<module>\u001b[0;34m()\u001b[0m\n\u001b[1;32m     36\u001b[0m \u001b[0mplt\u001b[0m\u001b[0;34m.\u001b[0m\u001b[0mgrid\u001b[0m\u001b[0;34m(\u001b[0m\u001b[0mTrue\u001b[0m\u001b[0;34m)\u001b[0m\u001b[0;34m\u001b[0m\u001b[0m\n\u001b[1;32m     37\u001b[0m \u001b[0mplt\u001b[0m\u001b[0;34m.\u001b[0m\u001b[0msavefig\u001b[0m\u001b[0;34m(\u001b[0m\u001b[0;34m\"test.png\"\u001b[0m\u001b[0;34m)\u001b[0m\u001b[0;34m\u001b[0m\u001b[0m\n\u001b[0;32m---> 38\u001b[0;31m \u001b[0;32mraise\u001b[0m \u001b[0mException\u001b[0m\u001b[0;34m\u001b[0m\u001b[0m\n\u001b[0m",
      "\u001b[0;31mException\u001b[0m: "
     ]
    },
    {
     "data": {
      "image/png": "[encoded data removed]",
      "text/plain": [
       "<matplotlib.figure.Figure at 0x11141c0d0>"
      ]
     },
     "metadata": {},
     "output_type": "display_data"
    }
   ],
   "source": [
    "#from trafficsimulation import TrafficSimulation\n",
    "# import seaborn as sns\n",
    "import numpy as np\n",
    "# import pandas as pd\n",
    "import matplotlib.pyplot as plt\n",
    "\n",
    "\n",
    "def get_flow_array(densities, iterations):\n",
    "    avg_flow_arr = []\n",
    "    for density in densities:\n",
    "        sim = TrafficSimulation(100,density,5,.5, verbose=False)\n",
    "        flow_sum = 0\n",
    "        for i in range(iterations):\n",
    "            sim.step()\n",
    "            flow = sim.get_flow()\n",
    "            flow_sum += flow\n",
    "        avg_flow = flow_sum/(iterations*sim.road_length)\n",
    "        avg_flow_arr.append(avg_flow)\n",
    "    return avg_flow_arr\n",
    "\n",
    "dens = np.arange(0.01,1.0,.01)\n",
    "its = 200\n",
    "\n",
    "flows = get_flow_array(dens, its)\n",
    "dens = np.array(dens)\n",
    "flows = np.array(flows)\n",
    "# df = pd.DataFrame({'density':dens, 'flow':flows})\n",
    "# ax = sns.lmplot(x='density', y='flow', fit_reg=True, data=df)\n",
    "plt.scatter(dens,flows,s=2)\n",
    "z = np.polyfit(dens, flows, 3)\n",
    "f = np.poly1d(z)\n",
    "plt.plot(dens, f(dens))\n",
    "plt.xlabel('density (cars per cell)')\n",
    "plt.ylabel('Flow (cars per time-step)')\n",
    "plt.title('Flow vs. Density')\n",
    "plt.grid(True)\n",
    "plt.savefig(\"test.png\")\n",
    "raise Exception"
   ]
  },
  {
   "cell_type": "code",
   "execution_count": null,
   "metadata": {
    "collapsed": true
   },
   "outputs": [],
   "source": []
  }
 ],
 "metadata": {
  "anaconda-cloud": {},
  "kernelspec": {
   "display_name": "Python [Root]",
   "language": "python",
   "name": "Python [Root]"
  },
  "language_info": {
   "codemirror_mode": {
    "name": "ipython",
    "version": 2
   },
   "file_extension": ".py",
   "mimetype": "text/x-python",
   "name": "python",
   "nbconvert_exporter": "python",
   "pygments_lexer": "ipython2",
   "version": "2.7.12"
  }
 },
 "nbformat": 4,
 "nbformat_minor": 2
}
